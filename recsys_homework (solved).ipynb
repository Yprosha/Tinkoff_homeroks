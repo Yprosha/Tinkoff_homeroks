{
 "cells": [
  {
   "cell_type": "markdown",
   "metadata": {},
   "source": [
    "# Домашнее задание по рекомендательным системам"
   ]
  },
  {
   "cell_type": "markdown",
   "metadata": {},
   "source": [
    "В данном домашнем задании вам предлагается реализовать User-based рекомендательную систему. Так же требуется реализовать несколько вспомогательных функций, шаблоны которых вы можете найти в `utils.py`.\n",
    "\n",
    "Требования к выполнению задания:\n",
    "- Реализация функции из `utils.py` засчитывается, только если пройдены все соответствующие тесты из `test.py`. Запуск тестов: <font color='red'>pytest test.py</font>. Для тестов вам потребуются библиотеки `numpy`, `scipy`, `pytest` и `hypothesis`.\n",
    "- Плагиат запрещен. Если будет замечено, что часть задания списана, то 0 баллов ставится как списывающему, так и давшему списать.\n",
    "- Если пользуетесь кодом из открытых источников, то указывайте ссылки, откуда взяли решение. Иначе такой код может быть воспринят как плагиат.\n",
    "- При выполнении задания нельзя использовать библиотеку `scipy` и функцию `numpy.linalg.norm`\n",
    "\n",
    "При запуске тестов могут появиться предупреждения: PearsonRConstantInputWarning и PearsonRNearConstantInputWarning. На них можно не обращать внимания.\n",
    "\n",
    "Возможный максимум баллов за задание: 10 баллов <br>\n",
    "Дедлайн: ??? <br>\n",
    "Штраф: ??? - будет ли в курсе штраф? <br>\n",
    "<br>\n",
    "Для ускорения проверки, напишите здесь получившееся количество баллов: ..."
   ]
  },
  {
   "cell_type": "markdown",
   "metadata": {},
   "source": [
    "## 1. Метрика сходства\n",
    "<b>1.1. Реализация метрик (2 балла)</b>\n",
    "\n",
    "Первое, с чем необходимо разобраться, при реализации User-based подхода, это с метрикой, с помощью которой будет решаться, насколько похожи пользователи. Вам предлагается реализовать 2 метрики: на основе евклидовой метрики и коэффициент корреляции Пирсона. Шаблоны для обоих функций можете найти в `utils.py`. Не забудьте проверить реализацию на тестах.\n",
    "\n",
    "Евклидова метрика:\n",
    "\\begin{equation}\n",
    "d(p,q)=\\sqrt{(p_1-q_1)^2+(p_2-q_2)^2+\\dots+(p_n-q_n)^2} = \\sqrt{\\sum_{k=1}^n (p_k-q_k)^2}\n",
    "\\end{equation}\n",
    "\n",
    "В этом случае $d(p, q) \\in [0, \\infty)$, при этом если $d(p, q) \\to 0$, то $sim(p, q) \\to 1$. С учетом этого конечная формула будет выглядеть следующим образом:\n",
    "\\begin{equation}\n",
    "sim(p, q) = \\frac{1}{1 + d(p, q)}\n",
    "\\end{equation}\n",
    "Так же в этой формуле не будет проблем с делением на 0.\n",
    "\n",
    "Коэффициент корреляции Пирсона:\n",
    "\\begin{equation}\n",
    "r_{xy} = \\frac {\\sum_{i=1}^{m} \\left( x_i-\\bar{x} \\right)\\left( y_i-\\bar{y} \\right)}{\\sqrt{\\sum_{i=1}^{m} \\left( x_i-\\bar{x} \\right)^2 \\sum_{i=1}^{m} \\left( y_i-\\bar{y} \\right)^2}}\n",
    "\\end{equation}"
   ]
  },
  {
   "cell_type": "markdown",
   "metadata": {},
   "source": [
    "<b>1.2. (1 балл)</b>\n",
    "\n",
    "Рассмотрим пользователей $u$ и $v$. Им соотвествуют векторы $x_u$ и $x_v$, где $x_u[i] = r_{ui}$ и $x_v[i] = r_{vi}$. Из лекции известно, что похожесть между векторами $x_u$ и $x_v$ вычисляются только для тех индексов i, для которых существует и $r_{ui}$, и $r_{vi}$. То есть верно следуюющее:\n",
    "\\begin{equation}\n",
    "sim(u, v) = sim(x_uI_{uv}, x_vI_{uv}),\n",
    "\\end{equation}\n",
    "где $I_{uv} = [i | \\exists r_{ui} \\& \\exists r_{vi}]$. При этом если $I_{uv} = \\emptyset$, то $sim(u, v) \\to -\\infty$.\n",
    "\n",
    "Реализуйте два новых метода, которые переиспользуют написанные вами `euclidean_distance` и `pearson_distance`, добавляющие условия на $x_u$ и $x_v$. Считается, что $x_u[i] = 0$, если $\\nexists r_{ui}$. То же верно для $x_v$.\n",
    "\n",
    "При реализации заданий можно как написать новые функции, так и использовать декораторы."
   ]
  },
  {
   "cell_type": "code",
   "execution_count": 9,
   "metadata": {},
   "outputs": [],
   "source": [
    "import numpy as np\n",
    "from utils import euclidean_similarity, pearson_similarity\n",
    "import pandas as pd"
   ]
  },
  {
   "cell_type": "code",
   "execution_count": 2,
   "metadata": {},
   "outputs": [],
   "source": [
    "# your code (ﾉ>ω<)ﾉ :｡･:*:･ﾟ’★,｡･:*:･ﾟ’☆\n",
    "def miss(x):\n",
    "    x[x == -1] = 0\n",
    "    return x\n"
   ]
  },
  {
   "cell_type": "code",
   "execution_count": 5,
   "metadata": {},
   "outputs": [
    {
     "data": {
      "text/plain": [
       "1.0"
      ]
     },
     "execution_count": 5,
     "metadata": {},
     "output_type": "execute_result"
    }
   ],
   "source": [
    "x = np.array([[1,2,3,8,-1],[7,4,-1,5,0]])\n",
    "y = np.array([[7,4,-1,5,0],[7,4,-1,5,0]])\n",
    "\n",
    "euclidean_similarity(miss(x), miss(x))"
   ]
  },
  {
   "cell_type": "markdown",
   "metadata": {},
   "source": [
    "## 2. User-based method\n",
    "<b>2.1. (3 балла)</b> \n",
    "\n",
    "Реализовать User-based подход, реализовав методы класса `UserBasedRecommendation`, основанного на использовании `NearestNeighbors`. В качестве метрики может для нахождения похожих пользователей может быть использована как евклидова метрика, так и коэффициент корреляции Пирсона.\n",
    "\n",
    "Не забывайте, что `NearestNeighbors` ищет минимум расстояния между элементами, поэтому логично в качестве метрики при инициализации `NearestNeighbors` использовать обратную метрике схожести. То есть такую, что когда $sim(u, v) \\to 1$, то $d(u, v) \\to 0$. Например: $d(u, v) = 1 - sim(u, v)$"
   ]
  },
  {
   "cell_type": "code",
   "execution_count": 7,
   "metadata": {},
   "outputs": [],
   "source": [
    "from sklearn.neighbors import NearestNeighbors\n",
    "from typing import Optional\n",
    "\n",
    "from collections import Counter\n",
    "\n",
    "\n",
    "class UserBasedRecommendation:\n",
    "    def __init__(self, metric: str = 'euclidean', n_recommendations: int = 5, alpha: float = 0.8):\n",
    "        \"\"\"\n",
    "        Args:\n",
    "            metric: name of metric: ['euclidean', 'pearson']\n",
    "            n_recommendations: number of recommendations. Also can be specified self.make_recommendation\n",
    "            alpha: similarity threshold: if sim(u, v) > alpha then u and v are similar\n",
    "        \"\"\"\n",
    "        self.metric = metric\n",
    "        self.n_recommendations = n_recommendations\n",
    "        self.alpha = alpha\n",
    "\n",
    "    def fit(self, X: np.array):\n",
    "        \"\"\"\n",
    "        Args:\n",
    "            X: matrix N x M where X[u, i] = r_{ui} if r_{ui} exists else X[u, i] = 0\n",
    "        \"\"\"\n",
    "        self.X = X\n",
    "\n",
    "    def find_closest_users(self, user_id: int, n_closest_users: int):\n",
    "        # your code (ﾉ>ω<)ﾉ :｡･:*:･ﾟ’★,｡･:*:･ﾟ’☆\n",
    "        scores = []\n",
    "        if self.metric == 'euclidean':\n",
    "            for i in range(len(self.X)):\n",
    "                scores.append((1 - euclidean_similarity(miss(self.X[user_id]), miss(self.X[i])), i))\n",
    "            scores = (sorted(scores))[1:n_closest_users+1]\n",
    "        elif self.metric == 'pearson':\n",
    "            for i in range(len(self.X)):\n",
    "                scores.append((pearson_similarity(miss(self.X[user_id]), miss(self.X[i])), i))\n",
    "            scores = (sorted(scores, reverse = True))[1:n_closest_users+1]\n",
    "        \n",
    "        scores = [x for x in scores if x[0] > self.alpha]\n",
    "        ind = np.array(list(map(lambda x: x[1], scores)))\n",
    "        self.ind = ind\n",
    "        return scores\n",
    "    def make_recommendation(self, user_id: int, n_recommendations: Optional[int] = None):\n",
    "        \"\"\"\n",
    "        Args:\n",
    "            user_id: user id to whom you want to recommend\n",
    "            n_recommendations: number of recommendations\n",
    "        \"\"\"\n",
    "        # your code (ﾉ>ω<)ﾉ :｡･:*:･ﾟ’★,｡･:*:･ﾟ’☆\n",
    "        if self.metric == 'euclidean':\n",
    "            rating = []\n",
    "            for i in range(self.X.shape[1]):\n",
    "                sim = 0\n",
    "                sum_sim = 0\n",
    "                for j in self.ind:\n",
    "                    sum_sim += np.abs(euclidean_similarity(miss(self.X[j]), miss(self.X[user_id])))\n",
    "                    sim += euclidean_similarity(miss(self.X[j]), miss(self.X[user_id]))*(self.X[j,i] - np.mean(self.X[j]))\n",
    "                if self.X[user_id, i] == 0:\n",
    "                    rating.append((np.mean(self.X[user_id][self.X[user_id] > 0]) + sim / sum_sim, i))\n",
    "        elif self.metric == 'pearson':\n",
    "            rating = []\n",
    "            for i in range(self.X.shape[1]):\n",
    "                sim = 0\n",
    "                sum_sim = 0\n",
    "                for j in self.ind:\n",
    "                    sum_sim += np.abs(pearson_similarity(miss(self.X[j]), miss(self.X[user_id])))\n",
    "                    sim += pearson_similarity(miss(self.X[j]), miss(self.X[user_id]))*(self.X[j,i] - np.mean(self.X[j]))\n",
    "                if self.X[user_id, i] == 0:\n",
    "                    rating.append((np.mean(self.X[user_id][self.X[user_id] > 0]) + sim / sum_sim, i))\n",
    "        return sorted(rating, reverse = True)[:n_recommendations]"
   ]
  },
  {
   "cell_type": "markdown",
   "metadata": {},
   "source": [
    "<b>2.2. (1 балла)</b>\n",
    "\n",
    "Приведите пример, для которого использование разных метрик будет давать разные рекомендации. Объясните свой пример."
   ]
  },
  {
   "cell_type": "code",
   "execution_count": 10,
   "metadata": {},
   "outputs": [
    {
     "data": {
      "text/html": [
       "<div>\n",
       "<style scoped>\n",
       "    .dataframe tbody tr th:only-of-type {\n",
       "        vertical-align: middle;\n",
       "    }\n",
       "\n",
       "    .dataframe tbody tr th {\n",
       "        vertical-align: top;\n",
       "    }\n",
       "\n",
       "    .dataframe thead th {\n",
       "        text-align: right;\n",
       "    }\n",
       "</style>\n",
       "<table border=\"1\" class=\"dataframe\">\n",
       "  <thead>\n",
       "    <tr style=\"text-align: right;\">\n",
       "      <th></th>\n",
       "      <th>M0</th>\n",
       "      <th>M1</th>\n",
       "      <th>M2</th>\n",
       "      <th>M3</th>\n",
       "      <th>M4</th>\n",
       "      <th>M5</th>\n",
       "    </tr>\n",
       "  </thead>\n",
       "  <tbody>\n",
       "    <tr>\n",
       "      <th>USER0</th>\n",
       "      <td>-1</td>\n",
       "      <td>3</td>\n",
       "      <td>2</td>\n",
       "      <td>-1</td>\n",
       "      <td>-1</td>\n",
       "      <td>6</td>\n",
       "    </tr>\n",
       "    <tr>\n",
       "      <th>USER1</th>\n",
       "      <td>-1</td>\n",
       "      <td>4</td>\n",
       "      <td>2</td>\n",
       "      <td>7</td>\n",
       "      <td>-1</td>\n",
       "      <td>6</td>\n",
       "    </tr>\n",
       "    <tr>\n",
       "      <th>USER2</th>\n",
       "      <td>5</td>\n",
       "      <td>1</td>\n",
       "      <td>3</td>\n",
       "      <td>-1</td>\n",
       "      <td>7</td>\n",
       "      <td>-1</td>\n",
       "    </tr>\n",
       "    <tr>\n",
       "      <th>USER3</th>\n",
       "      <td>5</td>\n",
       "      <td>4</td>\n",
       "      <td>-1</td>\n",
       "      <td>4</td>\n",
       "      <td>9</td>\n",
       "      <td>7</td>\n",
       "    </tr>\n",
       "    <tr>\n",
       "      <th>USER4</th>\n",
       "      <td>7</td>\n",
       "      <td>-1</td>\n",
       "      <td>7</td>\n",
       "      <td>4</td>\n",
       "      <td>6</td>\n",
       "      <td>5</td>\n",
       "    </tr>\n",
       "  </tbody>\n",
       "</table>\n",
       "</div>"
      ],
      "text/plain": [
       "       M0  M1  M2  M3  M4  M5\n",
       "USER0  -1   3   2  -1  -1   6\n",
       "USER1  -1   4   2   7  -1   6\n",
       "USER2   5   1   3  -1   7  -1\n",
       "USER3   5   4  -1   4   9   7\n",
       "USER4   7  -1   7   4   6   5"
      ]
     },
     "execution_count": 10,
     "metadata": {},
     "output_type": "execute_result"
    }
   ],
   "source": [
    "X = np.array([[-1, 3, 2, -1, -1, 6], [-1, 4, 2, 7, -1, 6], [5, 1, 3, -1, 7, -1], [5, 4, -1, 4, 9, 7], [7, -1, 7, 4, 6, 5]]) \n",
    "\n",
    "pd.DataFrame(X, index = ['USER0', 'USER1','USER2', 'USER3', 'USER4'], columns = ['M0', 'M1', 'M2', 'M3','M4', 'M5'])"
   ]
  },
  {
   "cell_type": "markdown",
   "metadata": {},
   "source": [
    "#### Euclidean"
   ]
  },
  {
   "cell_type": "code",
   "execution_count": 11,
   "metadata": {},
   "outputs": [
    {
     "data": {
      "text/plain": [
       "[(0.8761006569007046, 1), (0.914703462326635, 2)]"
      ]
     },
     "execution_count": 11,
     "metadata": {},
     "output_type": "execute_result"
    }
   ],
   "source": [
    "rec = UserBasedRecommendation(metric='euclidean', alpha = -1000)\n",
    "rec.fit(X)\n",
    "rec.find_closest_users(0,2)"
   ]
  },
  {
   "cell_type": "markdown",
   "metadata": {},
   "source": [
    "В данном примере мы видим, что метрика 'euclidean' показывает максимальную схожесть USER0 и USER2, хотя мы видим что на самом деле для 0го юзера самым близким будем USER1, ведь у них оценки для первого, второго и пятого фильма практически идентичны, в то время как с USER2 и них явные различия во вкусах(на примере оценок первого фильма)."
   ]
  },
  {
   "cell_type": "code",
   "execution_count": 12,
   "metadata": {},
   "outputs": [
    {
     "data": {
      "text/plain": [
       "[(4.849720784036919, 3), (3.5580144799574005, 4), (2.74254395196876, 0)]"
      ]
     },
     "execution_count": 12,
     "metadata": {},
     "output_type": "execute_result"
    }
   ],
   "source": [
    "rec.make_recommendation(0,3)"
   ]
  },
  {
   "cell_type": "markdown",
   "metadata": {},
   "source": [
    "Получаем какие-то такие рекомендации"
   ]
  },
  {
   "cell_type": "markdown",
   "metadata": {},
   "source": [
    "#### Pearson"
   ]
  },
  {
   "cell_type": "code",
   "execution_count": 13,
   "metadata": {},
   "outputs": [
    {
     "data": {
      "text/plain": [
       "[(0.4774611427462813, 1), (0.02267742779480786, 3)]"
      ]
     },
     "execution_count": 13,
     "metadata": {},
     "output_type": "execute_result"
    }
   ],
   "source": [
    "rec = UserBasedRecommendation(metric='pearson', alpha = -1000)\n",
    "rec.fit(X)\n",
    "rec.find_closest_users(0,2)"
   ]
  },
  {
   "cell_type": "markdown",
   "metadata": {},
   "source": [
    "Метрика 'pearson' работает гораздо лучше. Во-первых, алгоритм 'понимает', что 1й пользователь самый близкий к 0му, а также вторым по близости определяет 3го пользователя, и это действително похоже на правду, если посмотреть на их оценки фильмов, то кажется что вкусы у них +- схожи"
   ]
  },
  {
   "cell_type": "code",
   "execution_count": 14,
   "metadata": {},
   "outputs": [
    {
     "data": {
      "text/plain": [
       "[(7.288402649567145, 3), (0.8325101221087725, 4), (0.6511409645948967, 0)]"
      ]
     },
     "execution_count": 14,
     "metadata": {},
     "output_type": "execute_result"
    }
   ],
   "source": [
    "rec.make_recommendation(0,3)"
   ]
  },
  {
   "cell_type": "markdown",
   "metadata": {},
   "source": [
    "Полученная рекомендация для 3го фильма выглядит действительно хорошо, посмотрев на ближайших по схожести пользователей видно, что оценка 7 для этого фильма правдоподобна. С остальными двумя фильмами ситуация хуже конечно, но нас интересует порядок, а с ним все в порядке."
   ]
  },
  {
   "cell_type": "markdown",
   "metadata": {},
   "source": [
    "## 3. Оценка качества\n",
    "<b>3.1. (1 балл)</b>\n",
    "\n",
    "Реализуйте Average Precision at k и Mean Average Precision at k. Шаблоны можете найти в `utils.py`.\n",
    "\\begin{align*}\n",
    "AP@K = \\frac{1}{m}\\sum_{k=1}^K P(k)*rel(k), \\\\\n",
    "MAP@K = \\frac{1}{|U|}\\sum_{u=1}^{|U|}(AP@K)_u\n",
    "\\end{align*}\n",
    "где $P(k)$ - Precision at k, $rel(k) = 1$, если рекомендация релевантна, иначе $rel(k) = 0$."
   ]
  },
  {
   "cell_type": "markdown",
   "metadata": {},
   "source": [
    "## 4. Применение модели\n",
    "<b>4.1. (2 балла)</b>\n",
    "\n",
    "Выгрузите датасет `ratings_small.csv`: https://www.kaggle.com/rounakbanik/the-movies-dataset#ratings_small.csv"
   ]
  },
  {
   "cell_type": "code",
   "execution_count": 16,
   "metadata": {},
   "outputs": [],
   "source": [
    "from sklearn.model_selection import train_test_split"
   ]
  },
  {
   "cell_type": "code",
   "execution_count": 17,
   "metadata": {},
   "outputs": [
    {
     "data": {
      "text/plain": [
       "(100004, 4)"
      ]
     },
     "execution_count": 17,
     "metadata": {},
     "output_type": "execute_result"
    }
   ],
   "source": [
    "data = pd.read_csv('ratings_small.csv', index_col=False)\n",
    "data.shape"
   ]
  },
  {
   "cell_type": "code",
   "execution_count": 18,
   "metadata": {},
   "outputs": [
    {
     "data": {
      "text/plain": [
       "(1, 671, 671)"
      ]
     },
     "execution_count": 18,
     "metadata": {},
     "output_type": "execute_result"
    }
   ],
   "source": [
    "data.userId.min(), data.userId.max(), len(data.userId.unique())"
   ]
  },
  {
   "cell_type": "code",
   "execution_count": 19,
   "metadata": {},
   "outputs": [
    {
     "data": {
      "text/plain": [
       "(1, 163949, 9066)"
      ]
     },
     "execution_count": 19,
     "metadata": {},
     "output_type": "execute_result"
    }
   ],
   "source": [
    "data.movieId.min(), data.movieId.max(), len(data.movieId.unique())"
   ]
  },
  {
   "cell_type": "markdown",
   "metadata": {},
   "source": [
    "Для простоты работы с данными, измените нумерацию пользователей и фильмов так, чтобы нумерация начиналась с 0 и шла непрерывно."
   ]
  },
  {
   "cell_type": "code",
   "execution_count": 20,
   "metadata": {},
   "outputs": [],
   "source": [
    "movie_to_idx = {movie_name : idx for idx, movie_name in enumerate(data.movieId.unique())}\n",
    "idx_to_movie = {i: movie_name for movie_name, i in movie_to_idx.items()}"
   ]
  },
  {
   "cell_type": "code",
   "execution_count": 21,
   "metadata": {},
   "outputs": [],
   "source": [
    "user_to_idx = {user_id : idx for idx, user_id in enumerate(data.userId.unique())}\n",
    "idx_to_user = {i: user for user, i in user_to_idx.items()}"
   ]
  },
  {
   "cell_type": "code",
   "execution_count": 22,
   "metadata": {},
   "outputs": [],
   "source": [
    "data.movieId = [movie_to_idx[idx] for idx in data.movieId]\n",
    "data.userId = [user_to_idx[idx] for idx in data.userId]"
   ]
  },
  {
   "cell_type": "code",
   "execution_count": 23,
   "metadata": {},
   "outputs": [
    {
     "data": {
      "text/plain": [
       "(0, 670, 671)"
      ]
     },
     "execution_count": 23,
     "metadata": {},
     "output_type": "execute_result"
    }
   ],
   "source": [
    "data.userId.min(), data.userId.max(), len(data.userId.unique())"
   ]
  },
  {
   "cell_type": "code",
   "execution_count": 24,
   "metadata": {},
   "outputs": [
    {
     "data": {
      "text/plain": [
       "(0, 9065, 9066)"
      ]
     },
     "execution_count": 24,
     "metadata": {},
     "output_type": "execute_result"
    }
   ],
   "source": [
    "data.movieId.min(), data.movieId.max(), len(data.movieId.unique())"
   ]
  },
  {
   "cell_type": "markdown",
   "metadata": {},
   "source": [
    "Удалим для наиболее активных пользователей 5 оценок"
   ]
  },
  {
   "cell_type": "code",
   "execution_count": 25,
   "metadata": {},
   "outputs": [
    {
     "data": {
      "text/plain": [
       "((99954, 4), (50, 4))"
      ]
     },
     "execution_count": 25,
     "metadata": {},
     "output_type": "execute_result"
    }
   ],
   "source": [
    "active_users = data.userId.value_counts()[:10].index\n",
    "test_data = pd.DataFrame([], columns=data.columns)\n",
    "for user_id in active_users:\n",
    "    _, test = train_test_split(data[data.userId == user_id], test_size=5, random_state=42)\n",
    "    test_data = test_data.append(test, ignore_index=True)\n",
    "    data = data[~((data.userId == user_id) & (data.movieId.isin(test.movieId.values)))]\n",
    "data.shape, test_data.shape"
   ]
  },
  {
   "cell_type": "markdown",
   "metadata": {},
   "source": [
    "Преобразуем данные в таблицу `X`, с которой может работать `UserBasedRecommendation`, где $X_{ui} = r_{ui}$, если пользователь $u$ поставил оценку фильму $i$, и $X_{ui} = 0$, если пользователь $u$ не проставил оценку фильму $i$.\n",
    "\n",
    "Вам может пригодиться `csr_matrix`."
   ]
  },
  {
   "cell_type": "code",
   "execution_count": 26,
   "metadata": {},
   "outputs": [],
   "source": [
    "import scipy.sparse as scp"
   ]
  },
  {
   "cell_type": "code",
   "execution_count": 27,
   "metadata": {},
   "outputs": [],
   "source": [
    "def get_sparse(data):\n",
    "    return scp.coo_matrix(\n",
    "        (\n",
    "            data['rating'],  # оценки пользователей\n",
    "            (data['userId'], data['movieId'])  # id пользователей и id аниме, для которых известны оценки\n",
    "        ), \n",
    "        shape=(len(user_to_idx), len(movie_to_idx))  # размеры матрицы рейтингов\n",
    "    ).tocsr()"
   ]
  },
  {
   "cell_type": "code",
   "execution_count": 28,
   "metadata": {},
   "outputs": [
    {
     "data": {
      "text/plain": [
       "671"
      ]
     },
     "execution_count": 28,
     "metadata": {},
     "output_type": "execute_result"
    }
   ],
   "source": [
    "len(user_to_idx)"
   ]
  },
  {
   "cell_type": "code",
   "execution_count": 29,
   "metadata": {},
   "outputs": [
    {
     "data": {
      "text/plain": [
       "<671x9066 sparse matrix of type '<class 'numpy.float64'>'\n",
       "\twith 99954 stored elements in Compressed Sparse Row format>"
      ]
     },
     "execution_count": 29,
     "metadata": {},
     "output_type": "execute_result"
    }
   ],
   "source": [
    "train_sp = get_sparse(data)\n",
    "train_sp"
   ]
  },
  {
   "cell_type": "code",
   "execution_count": 30,
   "metadata": {},
   "outputs": [
    {
     "data": {
      "text/plain": [
       "array([[2.5, 3. , 3. , ..., 0. , 0. , 0. ],\n",
       "       [0. , 0. , 0. , ..., 0. , 0. , 0. ],\n",
       "       [0. , 0. , 0. , ..., 0. , 0. , 0. ],\n",
       "       ...,\n",
       "       [0. , 0. , 0. , ..., 0. , 0. , 0. ],\n",
       "       [0. , 0. , 0. , ..., 0. , 0. , 0. ],\n",
       "       [0. , 0. , 0. , ..., 0. , 0. , 0. ]])"
      ]
     },
     "execution_count": 30,
     "metadata": {},
     "output_type": "execute_result"
    }
   ],
   "source": [
    "train_dense = train_sp.todense().A\n",
    "train_dense"
   ]
  },
  {
   "cell_type": "markdown",
   "metadata": {},
   "source": [
    "Для пользователей, у которых были удалены фильмы, найдите топ 100 фильмов, который должен посмотреть каждый из этих пользователей, используя `UserBasedRecommendation`. Не забудьте подобрать параметр alpha."
   ]
  },
  {
   "cell_type": "code",
   "execution_count": 31,
   "metadata": {},
   "outputs": [
    {
     "name": "stderr",
     "output_type": "stream",
     "text": [
      "100%|██████████████████████████████████████████████████████████████████████████████████| 10/10 [04:50<00:00, 29.09s/it]\n"
     ]
    }
   ],
   "source": [
    "from tqdm import tqdm\n",
    "user_ids = np.unique(test_data.userId)\n",
    "\n",
    "preds = []\n",
    "rec = UserBasedRecommendation(alpha = 0.1)\n",
    "rec.fit(train_dense)\n",
    "for i in tqdm(user_ids):\n",
    "    rec.find_closest_users(i,20)\n",
    "    rec_mov = rec.make_recommendation(i,100)\n",
    "    preds.append(list(map(lambda x: x[1], rec_mov)))"
   ]
  },
  {
   "cell_type": "markdown",
   "metadata": {},
   "source": [
    "Используя метрику `MAP@5`, `MAP@10` и `MAP@100`, определите, насколько эффективна user-based рекомендательная система для данной задачи."
   ]
  },
  {
   "cell_type": "code",
   "execution_count": 32,
   "metadata": {},
   "outputs": [],
   "source": [
    "from utils import mapk, apk"
   ]
  },
  {
   "cell_type": "code",
   "execution_count": 33,
   "metadata": {},
   "outputs": [],
   "source": [
    "test_actual = []\n",
    "for i in range(len(user_ids)):\n",
    "    test_actual.append(np.array(test_data.movieId[test_data.userId == user_ids[i]]))"
   ]
  },
  {
   "cell_type": "code",
   "execution_count": 34,
   "metadata": {},
   "outputs": [
    {
     "data": {
      "text/plain": [
       "0.2"
      ]
     },
     "execution_count": 34,
     "metadata": {},
     "output_type": "execute_result"
    }
   ],
   "source": [
    "apk(np.array(test_actual[0]), np.array(preds[0]), 100)"
   ]
  },
  {
   "cell_type": "code",
   "execution_count": 35,
   "metadata": {},
   "outputs": [
    {
     "name": "stdout",
     "output_type": "stream",
     "text": [
      "MAP@5: 0.08\n",
      "MAP@10: 0.08\n",
      "MAP@100: 0.09284802330306383\n"
     ]
    }
   ],
   "source": [
    "for i in [5, 10, 100]:\n",
    "    print(f'MAP@{i}: {mapk(test_actual, preds, i)}')"
   ]
  },
  {
   "cell_type": "markdown",
   "metadata": {},
   "source": [
    "Как можно улучшить работу модели?\n",
    "\n",
    "<b>Ответ:</b>..."
   ]
  },
  {
   "cell_type": "markdown",
   "metadata": {},
   "source": [
    "Переберем гиперпараметры"
   ]
  },
  {
   "cell_type": "code",
   "execution_count": 98,
   "metadata": {},
   "outputs": [
    {
     "name": "stderr",
     "output_type": "stream",
     "text": [
      "100%|███████████████████████████████████████████████████████████████████████████████████| 3/3 [28:51<00:00, 577.25s/it]\n",
      "100%|███████████████████████████████████████████████████████████████████████████████████| 3/3 [09:12<00:00, 184.17s/it]\n"
     ]
    }
   ],
   "source": [
    "results = []\n",
    "for metric in ['pearson', 'euclidean']:\n",
    "    for alpha in tqdm([0.2, 0.1, 0.01]):\n",
    "        preds = []\n",
    "        rec = UserBasedRecommendation(alpha = alpha, metric = metric)\n",
    "        rec.fit(train_dense)\n",
    "        for i in user_ids:\n",
    "            rec.find_closest_users(i,20)\n",
    "            rec_mov = rec.make_recommendation(i,100)\n",
    "            preds.append(list(map(lambda x: x[1], rec_mov)))\n",
    "        res = []\n",
    "        for i in [5, 10, 100]:\n",
    "            res.append(mapk(test_actual, preds, i))\n",
    "        results.append(res)"
   ]
  },
  {
   "cell_type": "code",
   "execution_count": 99,
   "metadata": {},
   "outputs": [
    {
     "data": {
      "text/plain": [
       "[[0.09666666666666666, 0.09666666666666666, 0.10663872121618598],\n",
       " [0.09666666666666666, 0.09666666666666666, 0.10663872121618598],\n",
       " [0.09666666666666666, 0.09666666666666666, 0.10663872121618598],\n",
       " [0.08, 0.08, 0.09284802330306383],\n",
       " [0.08, 0.08, 0.09284802330306383],\n",
       " [0.08, 0.08, 0.09284802330306383]]"
      ]
     },
     "execution_count": 99,
     "metadata": {},
     "output_type": "execute_result"
    }
   ],
   "source": [
    "results"
   ]
  },
  {
   "cell_type": "markdown",
   "metadata": {},
   "source": [
    "Комбинация 'pearson' и alpha = 0.2/0.1/0.01 дают лучший результат"
   ]
  },
  {
   "cell_type": "code",
   "execution_count": 100,
   "metadata": {},
   "outputs": [
    {
     "name": "stderr",
     "output_type": "stream",
     "text": [
      "100%|██████████████████████████████████████████████████████████████████████████████████| 10/10 [14:13<00:00, 85.32s/it]"
     ]
    },
    {
     "name": "stdout",
     "output_type": "stream",
     "text": [
      "MAP@5: 0.09666666666666666\n",
      "MAP@10: 0.09666666666666666\n",
      "MAP@100: 0.10663872121618598\n"
     ]
    },
    {
     "name": "stderr",
     "output_type": "stream",
     "text": [
      "\n"
     ]
    }
   ],
   "source": [
    "preds = []\n",
    "rec = UserBasedRecommendation(metric = 'pearson', alpha = 0.1)\n",
    "rec.fit(train_dense)\n",
    "for i in tqdm(user_ids):\n",
    "    rec.find_closest_users(i,20)\n",
    "    rec_mov = rec.make_recommendation(i,100)\n",
    "    preds.append(list(map(lambda x: x[1], rec_mov)))\n",
    "\n",
    "for i in [5, 10, 100]:\n",
    "    print(f'MAP@{i}: {mapk(test_actual, preds, i)}')"
   ]
  }
 ],
 "metadata": {
  "kernelspec": {
   "display_name": "Python 3",
   "language": "python",
   "name": "python3"
  },
  "language_info": {
   "codemirror_mode": {
    "name": "ipython",
    "version": 3
   },
   "file_extension": ".py",
   "mimetype": "text/x-python",
   "name": "python",
   "nbconvert_exporter": "python",
   "pygments_lexer": "ipython3",
   "version": "3.8.5"
  }
 },
 "nbformat": 4,
 "nbformat_minor": 4
}
